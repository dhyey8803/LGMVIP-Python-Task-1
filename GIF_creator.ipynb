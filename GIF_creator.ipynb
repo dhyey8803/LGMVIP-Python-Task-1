{
 "cells": [
  {
   "cell_type": "code",
   "execution_count": 2,
   "id": "cc5a10df",
   "metadata": {},
   "outputs": [
    {
     "name": "stdout",
     "output_type": "stream",
     "text": [
      "MoviePy - Building file output.gif with imageio.\n"
     ]
    },
    {
     "name": "stderr",
     "output_type": "stream",
     "text": [
      "                                                                                                                       \r"
     ]
    }
   ],
   "source": [
    "import moviepy.editor as mpy\n",
    "import os\n",
    "from PIL import Image\n",
    "import numpy as np\n",
    "\n",
    "def create_gif(img_folder,gif,duration):\n",
    "    images=[img for img in os.listdir(img_folder) if (img.endswith('.jpg') or img.endswith('.png'))]\n",
    "\n",
    "    clips=[]\n",
    "    for img in images:\n",
    "        img_path=os.path.join(img_folder,img)\n",
    "        try:\n",
    "            image=Image.open(img_path).convert(\"RGB\")\n",
    "            img_array=np.array(image)\n",
    "            clip=mpy.ImageClip(img_array).set_duration(duration)\n",
    "            clips.append(clip)\n",
    "        except Exception as e:\n",
    "            print(f\"Error loading image {img_path}: {e}\")\n",
    "            continue\n",
    "    if not clips:\n",
    "        raise ValueError(\"No valid image found to create GIF file!\")\n",
    "    \n",
    "    video=mpy.concatenate_videoclips(clips,method='compose')\n",
    "    video.write_gif(gif,fps=10)\n",
    "    \n",
    "    \n",
    "img_folder=\"img_folder\"\n",
    "gif='output.gif'\n",
    "duration=0.5\n",
    "create_gif(img_folder,gif,duration)"
   ]
  },
  {
   "cell_type": "code",
   "execution_count": null,
   "id": "3ddfab8c",
   "metadata": {},
   "outputs": [],
   "source": []
  }
 ],
 "metadata": {
  "kernelspec": {
   "display_name": "Python 3 (ipykernel)",
   "language": "python",
   "name": "python3"
  },
  "language_info": {
   "codemirror_mode": {
    "name": "ipython",
    "version": 3
   },
   "file_extension": ".py",
   "mimetype": "text/x-python",
   "name": "python",
   "nbconvert_exporter": "python",
   "pygments_lexer": "ipython3",
   "version": "3.11.5"
  }
 },
 "nbformat": 4,
 "nbformat_minor": 5
}
